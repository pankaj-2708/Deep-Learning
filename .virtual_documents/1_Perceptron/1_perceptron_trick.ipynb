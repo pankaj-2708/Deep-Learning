


class Perceptron:
    def __init__(self,lr,epochs):
        self.lr=lr
        self.epochs=epochs
        self.weights=None

    def activate(self,i):
        
        return 1 if i>0 else 0
        
    def fit(self,X,y):
        X=np.insert(X,0,1,axis=1)
        self.weights=np.ones(X.shape[1])
        
        for i in range(self.epochs):
            i=np.random.randint(0,len(X))
            y_hat=self.activate(X[i].T@self.weights)
            self.weights=self.weights+self.lr*X[i]*(y[i]-y_hat)
        return self.weights
        
    def predict(self,X):
        X=np.insert(X,0,1,axis=1)
        return [ self.activate(i)  for i in X @ self.weights ]



