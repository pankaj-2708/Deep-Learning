


from tensorflow import keras
from keras import layers
from keras import Sequential

# eg model
model=Sequential()
model.add(layers.Conv2D(32,(3,3),activation='relu',input_shape=(50,50,3)))
model.add(layers.Conv2D(32,(3,3),activation='relu',padding='valid'))
model.add(layers.Conv2D(32,(3,3),activation='relu',padding='same'))
model.add(layers.Conv2D(32,(3,3),activation='relu',padding='same',strides=(2,2)))
model.summary()
