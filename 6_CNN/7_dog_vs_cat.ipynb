{
 "cells": [
  {
   "cell_type": "code",
   "execution_count": 1,
   "id": "723e7bc8-3c96-46d1-835a-a7c7322c1d4d",
   "metadata": {
    "scrolled": true
   },
   "outputs": [],
   "source": [
    "import numpy as np\n",
    "import pandas as pd\n",
    "import tensorflow as tf\n",
    "from tensorflow import keras\n",
    "from keras import Sequential,regularizers\n",
    "from keras.layers import Dense,Flatten,Conv2D,MaxPooling2D,BatchNormalization,Dropout"
   ]
  },
  {
   "cell_type": "markdown",
   "id": "52840eb2-bc9a-4a25-9d85-d2a4c7bb7ca6",
   "metadata": {},
   "source": [
    "# 🖼️ Image Loading & Resizing in Keras/TensorFlow\n",
    "\n",
    "This document explains how image resizing works in Keras/TensorFlow and the difference between using `load_img` and `image_dataset_from_directory`.\n",
    "\n",
    "---\n",
    "\n",
    "## 🔹 1. Image Resizing: Upscaling vs Downscaling\n",
    "\n",
    "When you use:\n",
    "\n",
    "```python\n",
    "from tensorflow.keras.utils import load_img\n",
    "\n",
    "img = load_img(\"cat.1.jpg\", target_size=(256, 256))\n",
    "```\n",
    "\n",
    "the image is resized using **interpolation**.\n",
    "\n",
    "### 1.1 Downscaling (Shrinking an Image)\n",
    "\n",
    "Example: **4×4 → 2×2**\n",
    "\n",
    "Original:\n",
    "\n",
    "```\n",
    "A B C D\n",
    "E F G H\n",
    "I J K L\n",
    "M N O P\n",
    "```\n",
    "\n",
    "Resized:\n",
    "\n",
    "```\n",
    "(A+B+E+F)/4   (C+D+G+H)/4\n",
    "(I+J+M+N)/4   (K+L+O+P)/4\n",
    "```\n",
    "\n",
    "➡ **Details are lost** (compression).\n",
    "\n",
    "---\n",
    "\n",
    "### 1.2 Upscaling (Enlarging an Image)\n",
    "\n",
    "Example: **2×2 → 4×4**\n",
    "\n",
    "Original:\n",
    "\n",
    "```\n",
    "A B\n",
    "C D\n",
    "```\n",
    "\n",
    "Methods:\n",
    "\n",
    "- **Nearest Neighbor** → copies nearest pixel (blocky look).\n",
    "- **Bilinear Interpolation** → averages 2×2 neighbors (smooth).\n",
    "- **Bicubic Interpolation** → averages 4×4 neighbors (smoother).\n",
    "- **Lanczos** → high-quality interpolation, often best for downscaling.\n",
    "\n",
    "➡ **Pixels are invented**, image may blur.\n",
    "\n",
    "---\n",
    "\n",
    "### 1.3 Interpolation in Keras / PIL\n",
    "\n",
    "By default, Keras uses **Pillow (PIL)** for resizing, with **bilinear interpolation**.  \n",
    "You can specify interpolation:\n",
    "\n",
    "```python\n",
    "img = load_img(\"cat.1.jpg\", target_size=(256, 256), interpolation=\"nearest\")\n",
    "```\n",
    "\n",
    "Options: `\"nearest\"`, `\"bilinear\"`, `\"bicubic\"`, `\"lanczos\"`."
   ]
  },
  {
   "cell_type": "code",
   "execution_count": 2,
   "id": "2dddf2bc-1188-445e-ba3a-daa22a10d7d4",
   "metadata": {},
   "outputs": [
    {
     "name": "stdout",
     "output_type": "stream",
     "text": [
      "Found 8005 files belonging to 2 classes.\n",
      "Found 2023 files belonging to 2 classes.\n"
     ]
    }
   ],
   "source": [
    "# loading data using generator from keras\n",
    "train_data=keras.utils.image_dataset_from_directory(\n",
    "    \"./training_set/training_set\",\n",
    "    labels=\"inferred\",\n",
    "    label_mode=\"int\",\n",
    "    batch_size=24,\n",
    "    image_size=(256, 256)\n",
    ")\n",
    "val_data=keras.utils.image_dataset_from_directory(\n",
    "    \"./test_set/test_set\",\n",
    "    labels=\"inferred\",\n",
    "    label_mode=\"int\",\n",
    "    batch_size=24,\n",
    "    image_size=(256, 256)\n",
    ")"
   ]
  },
  {
   "cell_type": "code",
   "execution_count": 3,
   "id": "64f4582b-c8cb-445b-acd5-2f2eeb1dfabe",
   "metadata": {},
   "outputs": [],
   "source": [
    "def preprocess(image,label):\n",
    "    image=tf.cast(image/255,tf.float32)\n",
    "    return image,label\n",
    "# this kind of added to ppl so every time a batch is loaded this fn is also applied to it\n",
    "train_data=train_data.map(preprocess)\n",
    "val_data=val_data.map(preprocess)"
   ]
  },
  {
   "cell_type": "code",
   "execution_count": 6,
   "id": "0d54e210-71c5-45d9-bfb0-6bb15fe9607b",
   "metadata": {},
   "outputs": [],
   "source": [
    "model=Sequential()\n",
    "model.add(Conv2D(32,kernel_size=(3,3),padding='valid',activation='relu',input_shape=(256,256,3)))\n",
    "model.add(BatchNormalization())\n",
    "model.add(MaxPooling2D(pool_size=(2,2),strides=2,padding='valid'))\n",
    "\n",
    "model.add(Conv2D(64,kernel_size=(3,3),padding='valid',activation='relu'))\n",
    "model.add(BatchNormalization())\n",
    "model.add(MaxPooling2D(pool_size=(2,2),strides=2,padding='valid'))\n",
    "\n",
    "model.add(Conv2D(128,kernel_size=(3,3),padding='valid',activation='relu'))\n",
    "model.add(BatchNormalization())\n",
    "model.add(MaxPooling2D(pool_size=(2,2),strides=2,padding='valid'))\n",
    "\n",
    "model.add(Flatten())\n",
    "\n",
    "model.add(Dense(128,activation=\"relu\",kernel_regularizer=regularizers.L2(0.001)))\n",
    "model.add(Dropout(0.1))\n",
    "model.add(Dense(64,activation=\"relu\",kernel_regularizer=regularizers.L2(0.001)))\n",
    "model.add(Dropout(0.1))\n",
    "model.add(Dense(1,activation=\"sigmoid\"))\n",
    "model.compile(optimizer='adam',loss=\"binary_crossentropy\",metrics=['accuracy'])"
   ]
  },
  {
   "cell_type": "code",
   "execution_count": 7,
   "id": "f0995e72-1a57-4392-8f85-77f11b0d3c81",
   "metadata": {},
   "outputs": [
    {
     "name": "stdout",
     "output_type": "stream",
     "text": [
      "Model: \"sequential_1\"\n",
      "_________________________________________________________________\n",
      " Layer (type)                Output Shape              Param #   \n",
      "=================================================================\n",
      " conv2d_3 (Conv2D)           (None, 254, 254, 32)      896       \n",
      "                                                                 \n",
      " batch_normalization_3 (Batc  (None, 254, 254, 32)     128       \n",
      " hNormalization)                                                 \n",
      "                                                                 \n",
      " max_pooling2d_3 (MaxPooling  (None, 127, 127, 32)     0         \n",
      " 2D)                                                             \n",
      "                                                                 \n",
      " conv2d_4 (Conv2D)           (None, 125, 125, 64)      18496     \n",
      "                                                                 \n",
      " batch_normalization_4 (Batc  (None, 125, 125, 64)     256       \n",
      " hNormalization)                                                 \n",
      "                                                                 \n",
      " max_pooling2d_4 (MaxPooling  (None, 62, 62, 64)       0         \n",
      " 2D)                                                             \n",
      "                                                                 \n",
      " conv2d_5 (Conv2D)           (None, 60, 60, 128)       73856     \n",
      "                                                                 \n",
      " batch_normalization_5 (Batc  (None, 60, 60, 128)      512       \n",
      " hNormalization)                                                 \n",
      "                                                                 \n",
      " max_pooling2d_5 (MaxPooling  (None, 30, 30, 128)      0         \n",
      " 2D)                                                             \n",
      "                                                                 \n",
      " flatten_1 (Flatten)         (None, 115200)            0         \n",
      "                                                                 \n",
      " dense (Dense)               (None, 128)               14745728  \n",
      "                                                                 \n",
      " dropout (Dropout)           (None, 128)               0         \n",
      "                                                                 \n",
      " dense_1 (Dense)             (None, 64)                8256      \n",
      "                                                                 \n",
      " dropout_1 (Dropout)         (None, 64)                0         \n",
      "                                                                 \n",
      " dense_2 (Dense)             (None, 1)                 65        \n",
      "                                                                 \n",
      "=================================================================\n",
      "Total params: 14,848,193\n",
      "Trainable params: 14,847,745\n",
      "Non-trainable params: 448\n",
      "_________________________________________________________________\n"
     ]
    }
   ],
   "source": [
    "model.summary()"
   ]
  },
  {
   "cell_type": "code",
   "execution_count": 8,
   "id": "a6a1dcf5-9306-4b74-9b34-3e5fc23172d8",
   "metadata": {
    "scrolled": true
   },
   "outputs": [
    {
     "name": "stdout",
     "output_type": "stream",
     "text": [
      "Epoch 1/10\n",
      "334/334 [==============================] - 126s 322ms/step - loss: 4.2155 - accuracy: 0.5593 - val_loss: 2.2503 - val_accuracy: 0.5161\n",
      "Epoch 2/10\n",
      "334/334 [==============================] - 106s 315ms/step - loss: 1.9891 - accuracy: 0.5819 - val_loss: 1.6178 - val_accuracy: 0.6214\n",
      "Epoch 3/10\n",
      "334/334 [==============================] - 92s 275ms/step - loss: 1.4135 - accuracy: 0.6341 - val_loss: 1.3115 - val_accuracy: 0.5690\n",
      "Epoch 4/10\n",
      "334/334 [==============================] - 95s 284ms/step - loss: 1.0653 - accuracy: 0.7129 - val_loss: 1.1029 - val_accuracy: 0.6273\n",
      "Epoch 5/10\n",
      "334/334 [==============================] - 145s 433ms/step - loss: 0.8654 - accuracy: 0.7504 - val_loss: 0.9287 - val_accuracy: 0.6678\n",
      "Epoch 6/10\n",
      "334/334 [==============================] - 141s 422ms/step - loss: 0.8217 - accuracy: 0.7755 - val_loss: 0.9424 - val_accuracy: 0.6901\n",
      "Epoch 7/10\n",
      "334/334 [==============================] - 193s 579ms/step - loss: 0.8212 - accuracy: 0.7983 - val_loss: 0.8523 - val_accuracy: 0.7395\n",
      "Epoch 8/10\n",
      "334/334 [==============================] - 201s 601ms/step - loss: 0.8169 - accuracy: 0.8192 - val_loss: 0.9995 - val_accuracy: 0.7138\n",
      "Epoch 9/10\n",
      "334/334 [==============================] - 200s 597ms/step - loss: 0.8438 - accuracy: 0.8346 - val_loss: 1.0944 - val_accuracy: 0.7222\n",
      "Epoch 10/10\n",
      "334/334 [==============================] - 172s 515ms/step - loss: 0.9257 - accuracy: 0.8491 - val_loss: 1.0933 - val_accuracy: 0.7360\n"
     ]
    },
    {
     "data": {
      "text/plain": [
       "1518.8998486995697"
      ]
     },
     "execution_count": 8,
     "metadata": {},
     "output_type": "execute_result"
    }
   ],
   "source": [
    "import time\n",
    "start_time=time.time()\n",
    "history=model.fit(train_data,epochs=10,validation_data=val_data)\n",
    "time.time()-start_time"
   ]
  },
  {
   "cell_type": "code",
   "execution_count": 9,
   "id": "237a9985-b2b5-4efa-8a7f-e9d18fac8774",
   "metadata": {
    "scrolled": true
   },
   "outputs": [],
   "source": [
    "history=pd.DataFrame(history.history)"
   ]
  },
  {
   "cell_type": "code",
   "execution_count": 10,
   "id": "abb19712-1362-4966-bb18-42ef20024eca",
   "metadata": {},
   "outputs": [
    {
     "data": {
      "text/plain": [
       "<Axes: >"
      ]
     },
     "execution_count": 10,
     "metadata": {},
     "output_type": "execute_result"
    },
    {
     "data": {
      "image/png": "[encoded data removed]",
      "text/plain": [
       "<Figure size 640x480 with 1 Axes>"
      ]
     },
     "metadata": {},
     "output_type": "display_data"
    }
   ],
   "source": [
    "history[['accuracy','val_accuracy']].plot(kind='line')"
   ]
  },
  {
   "cell_type": "code",
   "execution_count": 11,
   "id": "93a7f7b8-0f92-4ed6-b611-5f21a1b0606a",
   "metadata": {},
   "outputs": [],
   "source": [
    "tf.keras.backend.clear_session()"
   ]
  }
 ],
 "metadata": {
  "kernelspec": {
   "display_name": "Python (dl_py_9)",
   "language": "python",
   "name": "dl_py_9"
  },
  "language_info": {
   "codemirror_mode": {
    "name": "ipython",
    "version": 3
   },
   "file_extension": ".py",
   "mimetype": "text/x-python",
   "name": "python",
   "nbconvert_exporter": "python",
   "pygments_lexer": "ipython3",
   "version": "3.9.23"
  }
 },
 "nbformat": 4,
 "nbformat_minor": 5
}
