{
 "cells": [
  {
   "cell_type": "markdown",
   "id": "37e1737c-16e9-40e9-ae0f-c63b3bda8caf",
   "metadata": {},
   "source": [
    "# AlexNet - 2012\n",
    "<img src='https://miro.medium.com/v2/resize:fit:1100/format:webp/0*-fS38nfS1bPUrLZK.png'>"
   ]
  },
  {
   "cell_type": "code",
   "execution_count": 2,
   "id": "cb74c6e8-ca94-4ae2-bbd8-8486c8012ca4",
   "metadata": {},
   "outputs": [],
   "source": [
    "import numpy as np\n",
    "import pandas as pd\n",
    "import tensorflow as tf\n",
    "from tensorflow import keras\n",
    "from keras import Sequential,regularizers\n",
    "from keras.layers import Dense,Flatten,Conv2D,MaxPooling2D,BatchNormalization,Dropout"
   ]
  },
  {
   "cell_type": "code",
   "execution_count": null,
   "id": "bedc73a1-2189-4184-8f31-9acd3d18ce8f",
   "metadata": {},
   "outputs": [],
   "source": [
    "model=Sequential()\n",
    "model.add(Conv2D(96,kernel_size=(11,11),stride=4,padding='valid',input_shape=(227,227,3)))\n",
    "model.add(MaxPooling2D(pool_size=(3,3),strides=2)"
   ]
  }
 ],
 "metadata": {
  "kernelspec": {
   "display_name": "Python (dl_py_9)",
   "language": "python",
   "name": "dl_py_9"
  },
  "language_info": {
   "codemirror_mode": {
    "name": "ipython",
    "version": 3
   },
   "file_extension": ".py",
   "mimetype": "text/x-python",
   "name": "python",
   "nbconvert_exporter": "python",
   "pygments_lexer": "ipython3",
   "version": "3.9.23"
  }
 },
 "nbformat": 4,
 "nbformat_minor": 5
}
