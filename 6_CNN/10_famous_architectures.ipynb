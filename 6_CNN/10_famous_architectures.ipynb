{
 "cells": [
  {
   "cell_type": "markdown",
   "id": "37e1737c-16e9-40e9-ae0f-c63b3bda8caf",
   "metadata": {},
   "source": [
    "# AlexNet - 2012\n",
    "<img src='https://miro.medium.com/v2/resize:fit:1100/format:webp/0*-fS38nfS1bPUrLZK.png'>\n",
    "<a src='https://proceedings.neurips.cc/paper_files/paper/2012/file/c399862d3b9d6b76c8436e924a68c45b-Paper.pdf'>Paper</a>"
   ]
  },
  {
   "cell_type": "code",
   "execution_count": 6,
   "id": "cb74c6e8-ca94-4ae2-bbd8-8486c8012ca4",
   "metadata": {},
   "outputs": [],
   "source": [
    "import numpy as np\n",
    "import pandas as pd\n",
    "import tensorflow as tf\n",
    "from tensorflow import keras\n",
    "from keras import Sequential,regularizers\n",
    "from keras.layers import Dense,Flatten,Conv2D,MaxPooling2D,BatchNormalization,Dropout\n",
    "from tensorflow.keras.optimizers import SGD\n",
    "from tensorflow.keras.regularizers import l2"
   ]
  },
  {
   "cell_type": "code",
   "execution_count": 3,
   "id": "bedc73a1-2189-4184-8f31-9acd3d18ce8f",
   "metadata": {
    "scrolled": true
   },
   "outputs": [],
   "source": [
    "model=Sequential()\n",
    "model.add(Conv2D(96,kernel_size=(11,11),strides=4,padding='valid',activation='relu',input_shape=(227,227,3),kernel_regularizer=l2(5e-4)))\n",
    "model.add(MaxPooling2D(pool_size=(3,3),strides=2))\n",
    "          \n",
    "model.add(Conv2D(256,kernel_size=(5,5),padding='same',activation='relu',kernel_regularizer=l2(5e-4)))\n",
    "model.add(MaxPooling2D(pool_size=(3,3),strides=2))\n",
    "          \n",
    "model.add(Conv2D(384,kernel_size=(3,3),padding='same',activation='relu',kernel_regularizer=l2(5e-4)))\n",
    "model.add(Conv2D(384,kernel_size=(3,3),padding='same',activation='relu',kernel_regularizer=l2(5e-4)))\n",
    "          \n",
    "model.add(Conv2D(256,kernel_size=(3,3),padding='same',activation='relu',kernel_regularizer=l2(5e-4)))\n",
    "model.add(MaxPooling2D(pool_size=(3,3),strides=2))\n",
    "\n",
    "model.add(Flatten())\n",
    "\n",
    "optimizer = SGD(learning_rate=0.01, momentum=0.9)\n",
    "model.add(Dense(4096,activation=\"relu\",kernel_regularizer=l2(5e-4)))\n",
    "model.add(Dropout(0.5))\n",
    "model.add(Dense(4096,activation=\"relu\",kernel_regularizer=l2(5e-4)))\n",
    "model.add(Dropout(0.5))\n",
    "model.add(Dense(1000,activation=\"softmax\"))\n",
    "model.compile(optimizer=optimizer)"
   ]
  },
  {
   "cell_type": "code",
   "execution_count": 9,
   "id": "77bd1686-40ab-4879-bb88-1306290f2c01",
   "metadata": {},
   "outputs": [
    {
     "name": "stdout",
     "output_type": "stream",
     "text": [
      "Model: \"sequential_2\"\n",
      "_________________________________________________________________\n",
      " Layer (type)                Output Shape              Param #   \n",
      "=================================================================\n",
      " conv2d_9 (Conv2D)           (None, 55, 55, 96)        34944     \n",
      "                                                                 \n",
      " max_pooling2d_6 (MaxPooling  (None, 27, 27, 96)       0         \n",
      " 2D)                                                             \n",
      "                                                                 \n",
      " conv2d_10 (Conv2D)          (None, 27, 27, 256)       614656    \n",
      "                                                                 \n",
      " max_pooling2d_7 (MaxPooling  (None, 13, 13, 256)      0         \n",
      " 2D)                                                             \n",
      "                                                                 \n",
      " conv2d_11 (Conv2D)          (None, 13, 13, 384)       885120    \n",
      "                                                                 \n",
      " conv2d_12 (Conv2D)          (None, 13, 13, 384)       1327488   \n",
      "                                                                 \n",
      " conv2d_13 (Conv2D)          (None, 13, 13, 256)       884992    \n",
      "                                                                 \n",
      " max_pooling2d_8 (MaxPooling  (None, 6, 6, 256)        0         \n",
      " 2D)                                                             \n",
      "                                                                 \n",
      " flatten_2 (Flatten)         (None, 9216)              0         \n",
      "                                                                 \n",
      " dense_6 (Dense)             (None, 4096)              37752832  \n",
      "                                                                 \n",
      " dropout (Dropout)           (None, 4096)              0         \n",
      "                                                                 \n",
      " dense_7 (Dense)             (None, 4096)              16781312  \n",
      "                                                                 \n",
      " dropout_1 (Dropout)         (None, 4096)              0         \n",
      "                                                                 \n",
      " dense_8 (Dense)             (None, 1000)              4097000   \n",
      "                                                                 \n",
      "=================================================================\n",
      "Total params: 62,378,344\n",
      "Trainable params: 62,378,344\n",
      "Non-trainable params: 0\n",
      "_________________________________________________________________\n"
     ]
    }
   ],
   "source": [
    "model.summary()"
   ]
  },
  {
   "cell_type": "markdown",
   "id": "65012d2b-1cfe-4ea6-a40a-393ccb2c0f37",
   "metadata": {},
   "source": [
    "# VGG (Visual Geometry Group) - 16\n",
    "<img src='https://viso.ai/wp-content/uploads/2024/04/vgg-16.bak.png'>\n",
    "<img src='https://miro.medium.com/v2/resize:fit:1400/1*ZqkQYVB3_Gw0hjrAMzi6_A.png'>\n",
    "<a src='https://arxiv.org/pdf/1409.1556'>paper</a>"
   ]
  },
  {
   "cell_type": "code",
   "execution_count": 4,
   "id": "9e962638-fa99-4578-b896-4d53c496b48a",
   "metadata": {},
   "outputs": [],
   "source": [
    "model=Sequential()\n",
    "model.add(Conv2D(64,kernel_size=(3,3),padding='same',activation='relu',kernel_regularizer=l2(5e-4),input_shape=(224,224,3)))\n",
    "model.add(Conv2D(64,kernel_size=(3,3),padding='same',activation='relu',kernel_regularizer=l2(5e-4)))\n",
    "model.add(MaxPooling2D(pool_size=(2,2),strides=2))\n",
    "          \n",
    "model.add(Conv2D(128,kernel_size=(3,3),padding='same',activation='relu',kernel_regularizer=l2(5e-4)))\n",
    "model.add(Conv2D(128,kernel_size=(3,3),padding='same',activation='relu',kernel_regularizer=l2(5e-4)))\n",
    "model.add(MaxPooling2D(pool_size=(2,2),strides=2))\n",
    "          \n",
    "model.add(Conv2D(256,kernel_size=(3,3),padding='same',activation='relu',kernel_regularizer=l2(5e-4)))\n",
    "model.add(Conv2D(256,kernel_size=(3,3),padding='same',activation='relu',kernel_regularizer=l2(5e-4)))\n",
    "model.add(Conv2D(256,kernel_size=(3,3),padding='same',activation='relu',kernel_regularizer=l2(5e-4)))\n",
    "model.add(MaxPooling2D(pool_size=(2,2),strides=2))\n",
    "          \n",
    "model.add(Conv2D(512,kernel_size=(3,3),padding='same',activation='relu',kernel_regularizer=l2(5e-4)))\n",
    "model.add(Conv2D(512,kernel_size=(3,3),padding='same',activation='relu',kernel_regularizer=l2(5e-4)))\n",
    "model.add(Conv2D(512,kernel_size=(3,3),padding='same',activation='relu',kernel_regularizer=l2(5e-4)))\n",
    "model.add(MaxPooling2D(pool_size=(2,2),strides=2))\n",
    "\n",
    "model.add(Conv2D(512,kernel_size=(3,3),padding='same',activation='relu',kernel_regularizer=l2(5e-4)))\n",
    "model.add(Conv2D(512,kernel_size=(3,3),padding='same',activation='relu',kernel_regularizer=l2(5e-4)))\n",
    "model.add(Conv2D(512,kernel_size=(3,3),padding='same',activation='relu',kernel_regularizer=l2(5e-4)))\n",
    "model.add(MaxPooling2D(pool_size=(2,2),strides=2))\n",
    "\n",
    "model.add(Flatten())\n",
    "\n",
    "model.add(Dense(4096,activation=\"relu\",kernel_regularizer=l2(5e-4)))\n",
    "model.add(Dropout(0.5))\n",
    "model.add(Dense(4096,activation=\"relu\",kernel_regularizer=l2(5e-4)))\n",
    "model.add(Dropout(0.5))\n",
    "model.add(Dense(1000,activation=\"softmax\"))\n",
    "optimizer = SGD(learning_rate=0.01, momentum=0.9)\n",
    "model.compile(optimizer=optimizer,loss='categorical_crossentropy')"
   ]
  },
  {
   "cell_type": "code",
   "execution_count": 5,
   "id": "f2f210f0-88f1-4be6-b8b5-5650df882323",
   "metadata": {},
   "outputs": [
    {
     "name": "stdout",
     "output_type": "stream",
     "text": [
      "Model: \"sequential_1\"\n",
      "_________________________________________________________________\n",
      " Layer (type)                Output Shape              Param #   \n",
      "=================================================================\n",
      " conv2d_5 (Conv2D)           (None, 224, 224, 64)      1792      \n",
      "                                                                 \n",
      " conv2d_6 (Conv2D)           (None, 224, 224, 64)      36928     \n",
      "                                                                 \n",
      " max_pooling2d_3 (MaxPooling  (None, 112, 112, 64)     0         \n",
      " 2D)                                                             \n",
      "                                                                 \n",
      " conv2d_7 (Conv2D)           (None, 112, 112, 128)     73856     \n",
      "                                                                 \n",
      " conv2d_8 (Conv2D)           (None, 112, 112, 128)     147584    \n",
      "                                                                 \n",
      " max_pooling2d_4 (MaxPooling  (None, 56, 56, 128)      0         \n",
      " 2D)                                                             \n",
      "                                                                 \n",
      " conv2d_9 (Conv2D)           (None, 56, 56, 256)       295168    \n",
      "                                                                 \n",
      " conv2d_10 (Conv2D)          (None, 56, 56, 256)       590080    \n",
      "                                                                 \n",
      " conv2d_11 (Conv2D)          (None, 56, 56, 256)       590080    \n",
      "                                                                 \n",
      " max_pooling2d_5 (MaxPooling  (None, 28, 28, 256)      0         \n",
      " 2D)                                                             \n",
      "                                                                 \n",
      " conv2d_12 (Conv2D)          (None, 28, 28, 512)       1180160   \n",
      "                                                                 \n",
      " conv2d_13 (Conv2D)          (None, 28, 28, 512)       2359808   \n",
      "                                                                 \n",
      " conv2d_14 (Conv2D)          (None, 28, 28, 512)       2359808   \n",
      "                                                                 \n",
      " max_pooling2d_6 (MaxPooling  (None, 14, 14, 512)      0         \n",
      " 2D)                                                             \n",
      "                                                                 \n",
      " conv2d_15 (Conv2D)          (None, 14, 14, 512)       2359808   \n",
      "                                                                 \n",
      " conv2d_16 (Conv2D)          (None, 14, 14, 512)       2359808   \n",
      "                                                                 \n",
      " conv2d_17 (Conv2D)          (None, 14, 14, 512)       2359808   \n",
      "                                                                 \n",
      " max_pooling2d_7 (MaxPooling  (None, 7, 7, 512)        0         \n",
      " 2D)                                                             \n",
      "                                                                 \n",
      " flatten_1 (Flatten)         (None, 25088)             0         \n",
      "                                                                 \n",
      " dense_3 (Dense)             (None, 4096)              102764544 \n",
      "                                                                 \n",
      " dropout_2 (Dropout)         (None, 4096)              0         \n",
      "                                                                 \n",
      " dense_4 (Dense)             (None, 4096)              16781312  \n",
      "                                                                 \n",
      " dropout_3 (Dropout)         (None, 4096)              0         \n",
      "                                                                 \n",
      " dense_5 (Dense)             (None, 1000)              4097000   \n",
      "                                                                 \n",
      "=================================================================\n",
      "Total params: 138,357,544\n",
      "Trainable params: 138,357,544\n",
      "Non-trainable params: 0\n",
      "_________________________________________________________________\n"
     ]
    }
   ],
   "source": [
    "model.summary()"
   ]
  },
  {
   "cell_type": "markdown",
   "id": "3ad0d500-7be9-4c11-9860-a8caf9980219",
   "metadata": {},
   "source": [
    "# VGG (Visual Geometry Group) - 19\n",
    "<img src='https://www.researchgate.net/publication/359771670/figure/fig5/AS:11431281079634597@1660789329088/VGG-19-Architecture-39-VGG-19-has-16-convolution-layers-grouped-into-5-blocks-After.png'>\n",
    "<a src='https://arxiv.org/pdf/1409.1556'>paper</a>"
   ]
  },
  {
   "cell_type": "code",
   "execution_count": 7,
   "id": "5179713d-fa0d-46df-ace0-eff13e3c51cd",
   "metadata": {
    "scrolled": true
   },
   "outputs": [
    {
     "ename": "ResourceExhaustedError",
     "evalue": "{{function_node __wrapped__Mul_device_/job:localhost/replica:0/task:0/device:GPU:0}} failed to allocate memory [Op:Mul]",
     "output_type": "error",
     "traceback": [
      "\u001b[1;31m---------------------------------------------------------------------------\u001b[0m",
      "\u001b[1;31mResourceExhaustedError\u001b[0m                    Traceback (most recent call last)",
      "Cell \u001b[1;32mIn[7], line 30\u001b[0m\n\u001b[0;32m     26\u001b[0m model\u001b[38;5;241m.\u001b[39madd(MaxPooling2D(pool_size\u001b[38;5;241m=\u001b[39m(\u001b[38;5;241m2\u001b[39m,\u001b[38;5;241m2\u001b[39m),strides\u001b[38;5;241m=\u001b[39m\u001b[38;5;241m2\u001b[39m))\n\u001b[0;32m     28\u001b[0m model\u001b[38;5;241m.\u001b[39madd(Flatten())\n\u001b[1;32m---> 30\u001b[0m \u001b[43mmodel\u001b[49m\u001b[38;5;241;43m.\u001b[39;49m\u001b[43madd\u001b[49m\u001b[43m(\u001b[49m\u001b[43mDense\u001b[49m\u001b[43m(\u001b[49m\u001b[38;5;241;43m4096\u001b[39;49m\u001b[43m,\u001b[49m\u001b[43mactivation\u001b[49m\u001b[38;5;241;43m=\u001b[39;49m\u001b[38;5;124;43m\"\u001b[39;49m\u001b[38;5;124;43mrelu\u001b[39;49m\u001b[38;5;124;43m\"\u001b[39;49m\u001b[43m,\u001b[49m\u001b[43mkernel_regularizer\u001b[49m\u001b[38;5;241;43m=\u001b[39;49m\u001b[43ml2\u001b[49m\u001b[43m(\u001b[49m\u001b[38;5;241;43m5e-4\u001b[39;49m\u001b[43m)\u001b[49m\u001b[43m)\u001b[49m\u001b[43m)\u001b[49m\n\u001b[0;32m     31\u001b[0m model\u001b[38;5;241m.\u001b[39madd(Dropout(\u001b[38;5;241m0.5\u001b[39m))\n\u001b[0;32m     32\u001b[0m model\u001b[38;5;241m.\u001b[39madd(Dense(\u001b[38;5;241m4096\u001b[39m,activation\u001b[38;5;241m=\u001b[39m\u001b[38;5;124m\"\u001b[39m\u001b[38;5;124mrelu\u001b[39m\u001b[38;5;124m\"\u001b[39m,kernel_regularizer\u001b[38;5;241m=\u001b[39ml2(\u001b[38;5;241m5e-4\u001b[39m)))\n",
      "File \u001b[1;32m~\\anaconda3\\envs\\dl_py_9\\lib\\site-packages\\tensorflow\\python\\trackable\\base.py:205\u001b[0m, in \u001b[0;36mno_automatic_dependency_tracking.<locals>._method_wrapper\u001b[1;34m(self, *args, **kwargs)\u001b[0m\n\u001b[0;32m    203\u001b[0m \u001b[38;5;28mself\u001b[39m\u001b[38;5;241m.\u001b[39m_self_setattr_tracking \u001b[38;5;241m=\u001b[39m \u001b[38;5;28;01mFalse\u001b[39;00m  \u001b[38;5;66;03m# pylint: disable=protected-access\u001b[39;00m\n\u001b[0;32m    204\u001b[0m \u001b[38;5;28;01mtry\u001b[39;00m:\n\u001b[1;32m--> 205\u001b[0m   result \u001b[38;5;241m=\u001b[39m method(\u001b[38;5;28mself\u001b[39m, \u001b[38;5;241m*\u001b[39margs, \u001b[38;5;241m*\u001b[39m\u001b[38;5;241m*\u001b[39mkwargs)\n\u001b[0;32m    206\u001b[0m \u001b[38;5;28;01mfinally\u001b[39;00m:\n\u001b[0;32m    207\u001b[0m   \u001b[38;5;28mself\u001b[39m\u001b[38;5;241m.\u001b[39m_self_setattr_tracking \u001b[38;5;241m=\u001b[39m previous_value  \u001b[38;5;66;03m# pylint: disable=protected-access\u001b[39;00m\n",
      "File \u001b[1;32m~\\anaconda3\\envs\\dl_py_9\\lib\\site-packages\\keras\\utils\\traceback_utils.py:70\u001b[0m, in \u001b[0;36mfilter_traceback.<locals>.error_handler\u001b[1;34m(*args, **kwargs)\u001b[0m\n\u001b[0;32m     67\u001b[0m     filtered_tb \u001b[38;5;241m=\u001b[39m _process_traceback_frames(e\u001b[38;5;241m.\u001b[39m__traceback__)\n\u001b[0;32m     68\u001b[0m     \u001b[38;5;66;03m# To get the full stack trace, call:\u001b[39;00m\n\u001b[0;32m     69\u001b[0m     \u001b[38;5;66;03m# `tf.debugging.disable_traceback_filtering()`\u001b[39;00m\n\u001b[1;32m---> 70\u001b[0m     \u001b[38;5;28;01mraise\u001b[39;00m e\u001b[38;5;241m.\u001b[39mwith_traceback(filtered_tb) \u001b[38;5;28;01mfrom\u001b[39;00m\u001b[38;5;250m \u001b[39m\u001b[38;5;28;01mNone\u001b[39;00m\n\u001b[0;32m     71\u001b[0m \u001b[38;5;28;01mfinally\u001b[39;00m:\n\u001b[0;32m     72\u001b[0m     \u001b[38;5;28;01mdel\u001b[39;00m filtered_tb\n",
      "File \u001b[1;32m~\\anaconda3\\envs\\dl_py_9\\lib\\site-packages\\keras\\backend.py:2100\u001b[0m, in \u001b[0;36mRandomGenerator.random_uniform\u001b[1;34m(self, shape, minval, maxval, dtype, nonce)\u001b[0m\n\u001b[0;32m   2098\u001b[0m     \u001b[38;5;28;01mif\u001b[39;00m nonce:\n\u001b[0;32m   2099\u001b[0m         seed \u001b[38;5;241m=\u001b[39m tf\u001b[38;5;241m.\u001b[39mrandom\u001b[38;5;241m.\u001b[39mexperimental\u001b[38;5;241m.\u001b[39mstateless_fold_in(seed, nonce)\n\u001b[1;32m-> 2100\u001b[0m     \u001b[38;5;28;01mreturn\u001b[39;00m \u001b[43mtf\u001b[49m\u001b[38;5;241;43m.\u001b[39;49m\u001b[43mrandom\u001b[49m\u001b[38;5;241;43m.\u001b[39;49m\u001b[43mstateless_uniform\u001b[49m\u001b[43m(\u001b[49m\n\u001b[0;32m   2101\u001b[0m \u001b[43m        \u001b[49m\u001b[43mshape\u001b[49m\u001b[38;5;241;43m=\u001b[39;49m\u001b[43mshape\u001b[49m\u001b[43m,\u001b[49m\n\u001b[0;32m   2102\u001b[0m \u001b[43m        \u001b[49m\u001b[43mminval\u001b[49m\u001b[38;5;241;43m=\u001b[39;49m\u001b[43mminval\u001b[49m\u001b[43m,\u001b[49m\n\u001b[0;32m   2103\u001b[0m \u001b[43m        \u001b[49m\u001b[43mmaxval\u001b[49m\u001b[38;5;241;43m=\u001b[39;49m\u001b[43mmaxval\u001b[49m\u001b[43m,\u001b[49m\n\u001b[0;32m   2104\u001b[0m \u001b[43m        \u001b[49m\u001b[43mdtype\u001b[49m\u001b[38;5;241;43m=\u001b[39;49m\u001b[43mdtype\u001b[49m\u001b[43m,\u001b[49m\n\u001b[0;32m   2105\u001b[0m \u001b[43m        \u001b[49m\u001b[43mseed\u001b[49m\u001b[38;5;241;43m=\u001b[39;49m\u001b[43mseed\u001b[49m\u001b[43m,\u001b[49m\n\u001b[0;32m   2106\u001b[0m \u001b[43m    \u001b[49m\u001b[43m)\u001b[49m\n\u001b[0;32m   2107\u001b[0m \u001b[38;5;28;01mreturn\u001b[39;00m tf\u001b[38;5;241m.\u001b[39mrandom\u001b[38;5;241m.\u001b[39muniform(\n\u001b[0;32m   2108\u001b[0m     shape\u001b[38;5;241m=\u001b[39mshape,\n\u001b[0;32m   2109\u001b[0m     minval\u001b[38;5;241m=\u001b[39mminval,\n\u001b[1;32m   (...)\u001b[0m\n\u001b[0;32m   2112\u001b[0m     seed\u001b[38;5;241m=\u001b[39m\u001b[38;5;28mself\u001b[39m\u001b[38;5;241m.\u001b[39mmake_legacy_seed(),\n\u001b[0;32m   2113\u001b[0m )\n",
      "\u001b[1;31mResourceExhaustedError\u001b[0m: {{function_node __wrapped__Mul_device_/job:localhost/replica:0/task:0/device:GPU:0}} failed to allocate memory [Op:Mul]"
     ]
    }
   ],
   "source": [
    "model=Sequential()\n",
    "model.add(Conv2D(64,kernel_size=(3,3),padding='same',activation='relu',input_shape=(224,224,3),kernel_regularizer=l2(5e-4)))\n",
    "model.add(Conv2D(64,kernel_size=(3,3),padding='same',activation='relu',kernel_regularizer=l2(5e-4)))\n",
    "model.add(MaxPooling2D(pool_size=(2,2),strides=2))\n",
    "          \n",
    "model.add(Conv2D(128,kernel_size=(3,3),padding='same',activation='relu',kernel_regularizer=l2(5e-4)))\n",
    "model.add(Conv2D(128,kernel_size=(3,3),padding='same',activation='relu',kernel_regularizer=l2(5e-4)))\n",
    "model.add(MaxPooling2D(pool_size=(2,2),strides=2))\n",
    "          \n",
    "model.add(Conv2D(256,kernel_size=(3,3),padding='same',activation='relu',kernel_regularizer=l2(5e-4)))\n",
    "model.add(Conv2D(256,kernel_size=(3,3),padding='same',activation='relu',kernel_regularizer=l2(5e-4)))\n",
    "model.add(Conv2D(256,kernel_size=(3,3),padding='same',activation='relu',kernel_regularizer=l2(5e-4)))\n",
    "model.add(Conv2D(256,kernel_size=(3,3),padding='same',activation='relu',kernel_regularizer=l2(5e-4)))\n",
    "model.add(MaxPooling2D(pool_size=(2,2),strides=2))\n",
    "          \n",
    "model.add(Conv2D(512,kernel_size=(3,3),padding='same',activation='relu',kernel_regularizer=l2(5e-4)))\n",
    "model.add(Conv2D(512,kernel_size=(3,3),padding='same',activation='relu',kernel_regularizer=l2(5e-4)))\n",
    "model.add(Conv2D(512,kernel_size=(3,3),padding='same',activation='relu',kernel_regularizer=l2(5e-4)))\n",
    "model.add(Conv2D(512,kernel_size=(3,3),padding='same',activation='relu',kernel_regularizer=l2(5e-4)))\n",
    "model.add(MaxPooling2D(pool_size=(2,2),strides=2))\n",
    "\n",
    "model.add(Conv2D(512,kernel_size=(3,3),padding='same',activation='relu',kernel_regularizer=l2(5e-4)))\n",
    "model.add(Conv2D(512,kernel_size=(3,3),padding='same',activation='relu',kernel_regularizer=l2(5e-4)))\n",
    "model.add(Conv2D(512,kernel_size=(3,3),padding='same',activation='relu',kernel_regularizer=l2(5e-4)))\n",
    "model.add(Conv2D(512,kernel_size=(3,3),padding='same',activation='relu',kernel_regularizer=l2(5e-4)))\n",
    "model.add(MaxPooling2D(pool_size=(2,2),strides=2))\n",
    "\n",
    "model.add(Flatten())\n",
    "\n",
    "model.add(Dense(4096,activation=\"relu\",kernel_regularizer=l2(5e-4)))\n",
    "model.add(Dropout(0.5))\n",
    "model.add(Dense(4096,activation=\"relu\",kernel_regularizer=l2(5e-4)))\n",
    "model.add(Dropout(0.5))\n",
    "model.add(Dense(1000,activation=\"softmax\"))\n",
    "optimizer = SGD(learning_rate=0.01, momentum=0.9) \n",
    "model.compile(optimizer=optimizer,loss='categorical_crossentropy')"
   ]
  },
  {
   "cell_type": "code",
   "execution_count": null,
   "id": "3fc57eba-e811-47e1-a3e9-542304b6e285",
   "metadata": {},
   "outputs": [],
   "source": [
    "model.summary()"
   ]
  },
  {
   "cell_type": "code",
   "execution_count": null,
   "id": "d9f59d6b-0ca9-4186-b479-7e6e5f8e222f",
   "metadata": {},
   "outputs": [],
   "source": []
  }
 ],
 "metadata": {
  "kernelspec": {
   "display_name": "Python (dl_py_9)",
   "language": "python",
   "name": "dl_py_9"
  },
  "language_info": {
   "codemirror_mode": {
    "name": "ipython",
    "version": 3
   },
   "file_extension": ".py",
   "mimetype": "text/x-python",
   "name": "python",
   "nbconvert_exporter": "python",
   "pygments_lexer": "ipython3",
   "version": "3.9.23"
  }
 },
 "nbformat": 4,
 "nbformat_minor": 5
}
